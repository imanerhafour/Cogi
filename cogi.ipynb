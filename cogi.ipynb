{
  "cells": [
    {
      "cell_type": "code",
      "execution_count": 7,
      "metadata": {
        "id": "Q6BhZtSHvx53"
      },
      "outputs": [
        {
          "name": "stderr",
          "output_type": "stream",
          "text": [
            "\n",
            "[notice] A new release of pip is available: 24.0 -> 25.0.1\n",
            "[notice] To update, run: python.exe -m pip install --upgrade pip\n"
          ]
        }
      ],
      "source": [
        "!pip install -q openai"
      ]
    },
    {
      "cell_type": "code",
      "execution_count": 22,
      "metadata": {
        "id": "ZzlMKUZcvzjT"
      },
      "outputs": [],
      "source": [
        "from openai import OpenAI  # 👈 Import indispensable\n",
        "import os"
      ]
    },
    {
      "cell_type": "code",
      "execution_count": 23,
      "metadata": {
        "id": "e_O0CO89wOTy"
      },
      "outputs": [],
      "source": [
        "os.environ[\"TOGETHER_API_KEY\"] = \"30101e6072b0de51306002861a26807b3bd9a364a69c10dd7c9a9e482e69ac57\"\n",
        "client = OpenAI(\n",
        "    api_key=os.environ[\"TOGETHER_API_KEY\"],\n",
        "    base_url=\"https://api.together.xyz/v1\"\n",
        ")"
      ]
    },
    {
      "cell_type": "code",
      "execution_count": 24,
      "metadata": {
        "id": "CU3jsj4cxlMC"
      },
      "outputs": [],
      "source": [
        "def generate_response(prompt, system_message=\"Tu es un assistant de soutien psychologique. Reste calme, humain et à l'écoute.\"):\n",
        "    print(\"⏳ Génération...\")\n",
        "    response = client.chat.completions.create(\n",
        "        model=\"mistralai/Mistral-7B-Instruct-v0.1\",  # ✅ modèle GRATUIT et SERVERLESS\n",
        "        messages=[\n",
        "            {\"role\": \"system\", \"content\": system_message},\n",
        "            {\"role\": \"user\", \"content\": prompt}\n",
        "        ],\n",
        "        temperature=0.7,\n",
        "        max_tokens=200,\n",
        "        top_p=0.9\n",
        "    )\n",
        "    print(\"\\n🧠 Réponse générée :\\n\")\n",
        "    print(response.choices[0].message.content)"
      ]
    },
    {
      "cell_type": "code",
      "execution_count": null,
      "metadata": {},
      "outputs": [
        {
          "name": "stdout",
          "output_type": "stream",
          "text": [
            "⏳ Génération...\n",
            "\n",
            "🧠 Réponse générée :\n",
            "\n",
            " Hello, I'm glad you were able to share that with me. I'm here to support you and listen without judgment. Is there anything specific you'd like to talk about or ask about? I'm here to help.\n"
          ]
        }
      ],
      "source": [
        "generate_response(\"i am student\")"
      ]
    }
  ],
  "metadata": {
    "colab": {
      "provenance": []
    },
    "kernelspec": {
      "display_name": "Python 3",
      "name": "python3"
    },
    "language_info": {
      "codemirror_mode": {
        "name": "ipython",
        "version": 3
      },
      "file_extension": ".py",
      "mimetype": "text/x-python",
      "name": "python",
      "nbconvert_exporter": "python",
      "pygments_lexer": "ipython3",
      "version": "3.12.2"
    }
  },
  "nbformat": 4,
  "nbformat_minor": 0
}
